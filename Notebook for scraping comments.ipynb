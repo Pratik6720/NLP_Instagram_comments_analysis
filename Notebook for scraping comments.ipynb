{
 "cells": [
  {
   "cell_type": "markdown",
   "metadata": {},
   "source": [
    "## Importing The Instagram Api and Required Libraries"
   ]
  },
  {
   "cell_type": "code",
   "execution_count": 11,
   "metadata": {},
   "outputs": [],
   "source": [
    "from instagram_private_api import Client, ClientCompatPatch\n",
    "from prettytable import PrettyTable\n",
    "import re\n",
    "import pandas as pd\n",
    "import excel_exporter as pr\n"
   ]
  },
  {
   "cell_type": "markdown",
   "metadata": {},
   "source": [
    "## Intializing the Api to create an Endpoint access"
   ]
  },
  {
   "cell_type": "code",
   "execution_count": 12,
   "metadata": {},
   "outputs": [],
   "source": [
    "y = PrettyTable()\n",
    "usrprat = []\n",
    "cmtprat = []\n",
    "i=0\n",
    "y.field_names = [\"Username\",\"Text\"]\n",
    "import os\n",
    "file = open('password.txt')\n",
    "data =  file.readlines()\n",
    "user_name = data[0].strip()\n",
    "password = data[1]\n",
    "\n",
    "api = Client(user_name, password)\n"
   ]
  },
  {
   "cell_type": "markdown",
   "metadata": {},
   "source": [
    "## Declaring a Regular Expression to remove Emojis from the comments"
   ]
  },
  {
   "cell_type": "code",
   "execution_count": 13,
   "metadata": {},
   "outputs": [],
   "source": [
    "def clean(text):\n",
    "\n",
    "    emoji_pattern = re.compile(\"[\"\n",
    "                               u\"\\U0001F600-\\U0001F64F\"  # emoticons\n",
    "                               u\"\\U0001F300-\\U0001F5FF\"  # symbols & pictographs\n",
    "                               u\"\\U0001F680-\\U0001F6FF\"  # transport & map symbols\n",
    "                               u\"\\U0001F1E0-\\U0001F1FF\"  # flags (iOS)\n",
    "                               u\"\\U0001F1F2-\\U0001F1F4\"  # Macau flag\n",
    "                               u\"\\U0001F1E6-\\U0001F1FF\"  # flags\n",
    "                               u\"\\U0001F600-\\U0001F64F\"\n",
    "                               u\"\\U00002702-\\U000027B0\"\n",
    "                               u\"\\U000024C2-\\U0001F251\"\n",
    "                               u\"\\U0001f910-\\U0001f937\"\n",
    "                               u\"\\U0001f900-\\U0001f9ff\"\n",
    "                               u\"\\U0001F1F2\"\n",
    "                               u\"\\U0001F1F4\"\n",
    "                               u\"\\U0001F620\"\n",
    "                               u\"\\u200d\"\n",
    "                               u\"\\u2640-\\u2642\"\n",
    "                               \"]+\", flags=re.UNICODE)\n",
    "\n",
    "    for x in text:\n",
    "        x[1] = emoji_pattern.sub(r'', x[1])\n",
    "        cmtprat.append(x[1])\n",
    "    return text\n",
    "scraped_data = []"
   ]
  },
  {
   "cell_type": "markdown",
   "metadata": {},
   "source": [
    "## Accessing the Instagram comments with media id and passing it to clean text function\n",
    "## for Removing Emojis"
   ]
  },
  {
   "cell_type": "code",
   "execution_count": 14,
   "metadata": {},
   "outputs": [
    {
     "name": "stdout",
     "output_type": "stream",
     "text": [
      "0\n",
      "1\n",
      "2\n",
      "3\n",
      "4\n",
      "5\n",
      "6\n",
      "7\n",
      "8\n",
      "9\n"
     ]
    }
   ],
   "source": [
    "comments = api.media_n_comments('2336108690828392392_3476966688',5)\n",
    "for x in comments:\n",
    "    # print(x)\n",
    "    usr = api.user_info(x['user_id'])\n",
    "    # print(usr)\n",
    "    usrname = usr['user']['username']\n",
    "    usrprat.append(usrname)\n",
    "    comment = x['text']\n",
    "    scraped_data.append([usrname,comment])\n",
    "    print(i)\n",
    "    i = i + 1\n",
    "\n",
    "\n",
    "cleaned_data = clean(scraped_data)"
   ]
  },
  {
   "cell_type": "markdown",
   "metadata": {},
   "source": [
    "## Printing the scraped data with help of Pandas module in Python"
   ]
  },
  {
   "cell_type": "code",
   "execution_count": 15,
   "metadata": {},
   "outputs": [
    {
     "data": {
      "text/html": [
       "<div>\n",
       "<style scoped>\n",
       "    .dataframe tbody tr th:only-of-type {\n",
       "        vertical-align: middle;\n",
       "    }\n",
       "\n",
       "    .dataframe tbody tr th {\n",
       "        vertical-align: top;\n",
       "    }\n",
       "\n",
       "    .dataframe thead th {\n",
       "        text-align: right;\n",
       "    }\n",
       "</style>\n",
       "<table border=\"1\" class=\"dataframe\">\n",
       "  <thead>\n",
       "    <tr style=\"text-align: right;\">\n",
       "      <th></th>\n",
       "      <th>name</th>\n",
       "      <th>comment</th>\n",
       "    </tr>\n",
       "  </thead>\n",
       "  <tbody>\n",
       "    <tr>\n",
       "      <th>0</th>\n",
       "      <td>cherry_valley_beauty</td>\n",
       "      <td>@oliverlennon321 Trump 2020</td>\n",
       "    </tr>\n",
       "    <tr>\n",
       "      <th>1</th>\n",
       "      <td>oliverlennon321</td>\n",
       "      <td>Sheep</td>\n",
       "    </tr>\n",
       "    <tr>\n",
       "      <th>2</th>\n",
       "      <td>susan.westbrook2020</td>\n",
       "      <td>Discusting</td>\n",
       "    </tr>\n",
       "    <tr>\n",
       "      <th>3</th>\n",
       "      <td>fabianflarer34</td>\n",
       "      <td>You are a good president</td>\n",
       "    </tr>\n",
       "    <tr>\n",
       "      <th>4</th>\n",
       "      <td>im_not_cute._</td>\n",
       "      <td>Who else loves the hate and fairy comments like some off them r pearls like their so good!! Keep it up loves toghete...</td>\n",
       "    </tr>\n",
       "    <tr>\n",
       "      <th>5</th>\n",
       "      <td>fahriyeozayofficial</td>\n",
       "      <td></td>\n",
       "    </tr>\n",
       "    <tr>\n",
       "      <th>6</th>\n",
       "      <td>ele_anor123</td>\n",
       "      <td>Trump forever</td>\n",
       "    </tr>\n",
       "    <tr>\n",
       "      <th>7</th>\n",
       "      <td>bee_scared7283</td>\n",
       "      <td>Youarentinvitedtomybirthdayparty</td>\n",
       "    </tr>\n",
       "    <tr>\n",
       "      <th>8</th>\n",
       "      <td>liveandlove_02</td>\n",
       "      <td>@ximenaramirez_ that was a great</td>\n",
       "    </tr>\n",
       "    <tr>\n",
       "      <th>9</th>\n",
       "      <td>thiskoreanjew</td>\n",
       "      <td>Silent, and strong. The sign.</td>\n",
       "    </tr>\n",
       "  </tbody>\n",
       "</table>\n",
       "</div>"
      ],
      "text/plain": [
       "                   name  \\\n",
       "0  cherry_valley_beauty   \n",
       "1       oliverlennon321   \n",
       "2   susan.westbrook2020   \n",
       "3        fabianflarer34   \n",
       "4         im_not_cute._   \n",
       "5   fahriyeozayofficial   \n",
       "6           ele_anor123   \n",
       "7        bee_scared7283   \n",
       "8        liveandlove_02   \n",
       "9         thiskoreanjew   \n",
       "\n",
       "                                                                                                                   comment  \n",
       "0                                                                                              @oliverlennon321 Trump 2020  \n",
       "1                                                                                                                    Sheep  \n",
       "2                                                                                                               Discusting  \n",
       "3                                                                                                 You are a good president  \n",
       "4  Who else loves the hate and fairy comments like some off them r pearls like their so good!! Keep it up loves toghete...  \n",
       "5                                                                                                                           \n",
       "6                                                                                                            Trump forever  \n",
       "7                                                                                         Youarentinvitedtomybirthdayparty  \n",
       "8                                                                                         @ximenaramirez_ that was a great  \n",
       "9                                                                                            Silent, and strong. The sign.  "
      ]
     },
     "execution_count": 15,
     "metadata": {},
     "output_type": "execute_result"
    }
   ],
   "source": [
    "data = {'name':usrprat, 'comment': cmtprat}\n",
    "scraped_data = pd.DataFrame.from_dict(data)\n",
    "pd.set_option('max_colwidth', 120)\n",
    "scraped_data"
   ]
  },
  {
   "cell_type": "markdown",
   "metadata": {},
   "source": [
    "## Finally Exporting the scraped data into the Excel file"
   ]
  },
  {
   "cell_type": "code",
   "execution_count": 6,
   "metadata": {},
   "outputs": [],
   "source": [
    "pr.export(usrprat,cmtprat)"
   ]
  },
  {
   "cell_type": "code",
   "execution_count": null,
   "metadata": {},
   "outputs": [],
   "source": []
  }
 ],
 "metadata": {
  "kernelspec": {
   "display_name": "Python 3",
   "language": "python",
   "name": "python3"
  },
  "language_info": {
   "codemirror_mode": {
    "name": "ipython",
    "version": 3
   },
   "file_extension": ".py",
   "mimetype": "text/x-python",
   "name": "python",
   "nbconvert_exporter": "python",
   "pygments_lexer": "ipython3",
   "version": "3.6.8"
  }
 },
 "nbformat": 4,
 "nbformat_minor": 2
}
